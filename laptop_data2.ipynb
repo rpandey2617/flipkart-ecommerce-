{
 "cells": [
  {
   "cell_type": "code",
   "execution_count": 1,
   "id": "8767adb4",
   "metadata": {},
   "outputs": [],
   "source": [
    "import pandas as pd"
   ]
  },
  {
   "cell_type": "code",
   "execution_count": 6,
   "id": "28baaf27",
   "metadata": {},
   "outputs": [],
   "source": [
    "from langchain_community.document_loaders.csv_loader import CSVLoader\n",
    "\n",
    "\n",
    "loader = CSVLoader(file_path=r\"C:\\Users\\rohit\\Downloads\\Programs\\project_data.csv.csv\")\n",
    "docs = loader.load()"
   ]
  },
  {
   "cell_type": "code",
   "execution_count": 7,
   "id": "a5a15abb",
   "metadata": {},
   "outputs": [
    {
     "data": {
      "text/plain": [
       "Document(metadata={'source': 'C:\\\\Users\\\\rohit\\\\Downloads\\\\Programs\\\\flipcart_lapy_data.csv', 'row': 0}, page_content='clean_name: DELL Vostro Intel Core i3 12th Gen 1215U\\nram_gb: 8.0\\nprocessor: Intel Core i3\\nos: Windows 11\\nstorage_gb: 512.0\\nDisplay Size: 15.6\\ncpu_brand: Intel\\nweight: 2.97\\nbattery_life: 5.2\\nprice: 42906\\nRating: Not found')"
      ]
     },
     "execution_count": 7,
     "metadata": {},
     "output_type": "execute_result"
    }
   ],
   "source": [
    "docs[0]"
   ]
  },
  {
   "cell_type": "code",
   "execution_count": 8,
   "id": "70ed3139",
   "metadata": {},
   "outputs": [],
   "source": [
    "from langchain_text_splitters import RecursiveCharacterTextSplitter\n",
    "\n",
    "\n",
    "splitter= RecursiveCharacterTextSplitter(\n",
    "    # Set a really small chunk size, just to show.\n",
    "    chunk_size=400,\n",
    "    chunk_overlap=50,\n",
    "    \n",
    ")\n",
    "chunks = splitter.split_documents(docs)"
   ]
  },
  {
   "cell_type": "code",
   "execution_count": 9,
   "id": "a774b483",
   "metadata": {},
   "outputs": [
    {
     "name": "stdout",
     "output_type": "stream",
     "text": [
      "page_content='clean_name: DELL Vostro Intel Core i3 12th Gen 1215U\n",
      "ram_gb: 8.0\n",
      "processor: Intel Core i3\n",
      "os: Windows 11\n",
      "storage_gb: 512.0\n",
      "Display Size: 15.6\n",
      "cpu_brand: Intel\n",
      "weight: 2.97\n",
      "battery_life: 5.2\n",
      "price: 42906\n",
      "Rating: Not found' metadata={'source': 'C:\\\\Users\\\\rohit\\\\Downloads\\\\Programs\\\\flipcart_lapy_data.csv', 'row': 0}\n"
     ]
    }
   ],
   "source": [
    "print(chunks[0])"
   ]
  },
  {
   "cell_type": "code",
   "execution_count": 10,
   "id": "4b94eb71",
   "metadata": {},
   "outputs": [
    {
     "data": {
      "text/plain": [
       "405"
      ]
     },
     "execution_count": 10,
     "metadata": {},
     "output_type": "execute_result"
    }
   ],
   "source": [
    "len(chunks)"
   ]
  },
  {
   "cell_type": "code",
   "execution_count": 11,
   "id": "bea8b63c",
   "metadata": {},
   "outputs": [
    {
     "name": "stderr",
     "output_type": "stream",
     "text": [
      "C:\\Users\\rohit\\AppData\\Local\\Temp\\ipykernel_7312\\1931618161.py:5: LangChainDeprecationWarning: The class `HuggingFaceEmbeddings` was deprecated in LangChain 0.2.2 and will be removed in 1.0. An updated version of the class exists in the :class:`~langchain-huggingface package and should be used instead. To use it run `pip install -U :class:`~langchain-huggingface` and import as `from :class:`~langchain_huggingface import HuggingFaceEmbeddings``.\n",
      "  embedding_model = HuggingFaceEmbeddings(model_name=\"sentence-transformers/all-mpnet-base-v2\")\n",
      "C:\\Users\\rohit\\AppData\\Local\\Packages\\PythonSoftwareFoundation.Python.3.11_qbz5n2kfra8p0\\LocalCache\\local-packages\\Python311\\site-packages\\tqdm\\auto.py:21: TqdmWarning: IProgress not found. Please update jupyter and ipywidgets. See https://ipywidgets.readthedocs.io/en/stable/user_install.html\n",
      "  from .autonotebook import tqdm as notebook_tqdm\n",
      "C:\\Users\\rohit\\AppData\\Local\\Packages\\PythonSoftwareFoundation.Python.3.11_qbz5n2kfra8p0\\LocalCache\\local-packages\\Python311\\site-packages\\huggingface_hub\\file_download.py:143: UserWarning: `huggingface_hub` cache-system uses symlinks by default to efficiently store duplicated files but your machine does not support them in C:\\Users\\rohit\\.cache\\huggingface\\hub\\models--sentence-transformers--all-mpnet-base-v2. Caching files will still work but in a degraded version that might require more space on your disk. This warning can be disabled by setting the `HF_HUB_DISABLE_SYMLINKS_WARNING` environment variable. For more details, see https://huggingface.co/docs/huggingface_hub/how-to-cache#limitations.\n",
      "To support symlinks on Windows, you either need to activate Developer Mode or to run Python as an administrator. In order to activate developer mode, see this article: https://docs.microsoft.com/en-us/windows/apps/get-started/enable-your-device-for-development\n",
      "  warnings.warn(message)\n",
      "Xet Storage is enabled for this repo, but the 'hf_xet' package is not installed. Falling back to regular HTTP download. For better performance, install the package with: `pip install huggingface_hub[hf_xet]` or `pip install hf_xet`\n"
     ]
    }
   ],
   "source": [
    "from langchain.embeddings import HuggingFaceEmbeddings\n",
    "from langchain.vectorstores import FAISS\n",
    "\n",
    "\n",
    "embedding_model = HuggingFaceEmbeddings(model_name=\"sentence-transformers/all-mpnet-base-v2\")\n",
    "vectorstore = FAISS.from_documents(chunks, embedding_model)\n"
   ]
  },
  {
   "cell_type": "code",
   "execution_count": 12,
   "id": "4a706438",
   "metadata": {},
   "outputs": [
    {
     "name": "stdout",
     "output_type": "stream",
     "text": [
      "Text:\n",
      " clean_name: DELL Vostro Intel Core i3 12th Gen 1215U\n",
      "ram_gb: 8.0\n",
      "processor: Intel Core i3\n",
      "os: Windows 11\n",
      "storage_gb: 512.0\n",
      "Display Size: 15.6\n",
      "cpu_brand: Intel\n",
      "weight: 2.97\n",
      "battery_life: 5.2\n",
      "price: 42906\n",
      "Rating: Not found\n",
      "\n",
      "Embedding vector:\n",
      " [0.004206650424748659, -0.04477153718471527, -0.03329736366868019, -0.024080492556095123, 0.05304640531539917, 0.007276966702193022, -0.010186169296503067, 0.0384075827896595, 0.0037796017713844776, 0.021179702132940292, -0.042825210839509964, -0.020074723288416862, 0.06284769624471664, 0.07243780046701431, -0.03363475576043129, 0.02828037180006504, 0.02820749580860138, 0.02495649643242359, 0.05109133571386337, 0.0140256118029356, -0.027566170319914818, -0.015269089490175247, 0.03617275133728981, -0.05679994821548462, -0.05151901766657829, -0.01715078204870224, 0.02734328992664814, -0.03674919158220291, 0.004967968445271254, -0.038408055901527405, 0.027146128937602043, -0.039526600390672684, -0.026141710579395294, 0.009205996058881283, 1.694634192972444e-06, -0.045519690960645676, -0.030669061467051506, -0.019371461123228073, -0.005125333555042744, -0.005216195248067379, 0.017387105152010918, 0.018745746463537216, -0.03332977369427681, 0.006354432087391615, -0.033297132700681686, -0.046120528131723404, -0.044992003589868546, 0.08664043992757797, -0.0032092235051095486, 0.07964292168617249, 0.01713271625339985, 0.04715077579021454, 0.06522979587316513, -0.029274912551045418, 0.0605284757912159, -0.01195207517594099, -0.029843993484973907, 0.025580640882253647, 0.028233211487531662, 0.025063393637537956, 0.020826060324907303, 0.02891017496585846, -0.001805824344046414, 0.04687535762786865, -0.050631821155548096, -0.0031792728696018457, 0.08825423568487167, -0.020445508882403374, 0.07686402648687363, -0.03260662406682968, 0.03193791210651398, 0.06026593968272209, 0.012549645267426968, 0.04524766653776169, -0.04098013788461685, -0.063111811876297, -0.00227662967517972, 0.06274653226137161, -0.031522516161203384, 0.0044775758869946, -0.033017076551914215, 0.007082587573677301, 0.07678329199552536, -0.053744543343782425, 0.030370883643627167, 0.07711497694253922, -0.01998966746032238, 0.0020245162304490805, -0.04137103259563446, -0.06829071044921875, -0.013781930319964886, 0.015500570647418499, 0.014388141222298145, 0.0008817994967103004, -0.06668214499950409, -0.0417802631855011, -0.03138191998004913, -0.07506193220615387, -0.01829252764582634, -0.0020915279164910316, -0.011302866972982883, -0.03844913840293884, 0.05435919761657715, -0.02012949250638485, -0.017347760498523712, 0.034103699028491974, 0.03400540351867676, -0.00526593578979373, -0.06091254949569702, 0.05106330290436745, 0.03500853851437569, -0.039342328906059265, -0.05017918720841408, -0.007271716371178627, -0.021174395456910133, 0.026210181415081024, 0.0071742357686161995, -0.0008792136795818806, -0.07174653559923172, -0.006509657017886639, 0.03859242796897888, 0.024812815710902214, 0.04319099709391594, 0.02109672874212265, -0.027901750057935715, -0.012278929352760315, 0.02021973207592964, -0.025179943069815636, -0.047978129237890244, -0.02871757186949253, 0.04042230173945427, 0.0007888000691309571, 0.02249690145254135, -0.02075996808707714, 0.01723545603454113, 0.0399518683552742, 0.02149849571287632, -0.013796593062579632, -0.010830418206751347, 0.006244135554879904, 0.03899824246764183, -0.05669553950428963, -0.03544892370700836, -0.0008849954465404153, -0.005336008034646511, -0.00014582843868993223, 0.014821073040366173, -0.006928595714271069, 0.008917544037103653, 0.04660166800022125, -0.050687119364738464, -0.026602309197187424, -0.06140666827559471, 0.02932346612215042, 0.022888965904712677, -0.003885094076395035, 0.017584335058927536, -0.06074219197034836, -0.008756475523114204, 0.06054297462105751, 0.016175534576177597, 0.01706167496740818, 0.007851341739296913, 0.01672939397394657, 0.013122429139912128, -0.0018950589001178741, 0.024876032024621964, -0.0395677387714386, -0.08536937087774277, -0.02506520226597786, 0.02171076275408268, 0.006645525805652142, 0.04069386422634125, 0.07993160933256149, 0.003096685279160738, -0.004645762033760548, 0.03782406449317932, -0.017617199569940567, -0.10441245883703232, 0.0009751887409947813, -0.014249419793486595, -0.11156083643436432, -0.027819951996207237, 0.0011693877167999744, -0.011895909905433655, 0.00933076161891222, 0.028641266748309135, 0.009678401984274387, -0.014966798946261406, -0.018917374312877655, -0.017483819276094437, 0.0016607030993327498, 0.0224810391664505, 0.011471300385892391, 0.01704411767423153, 0.005056681577116251, -0.009283079765737057, -0.004669869318604469, -0.0035260492004454136, 0.05994950607419014, -0.013842558488249779, -0.06464537978172302, 0.15481580793857574, 0.02970256842672825, 0.003643734147772193, -0.012031850405037403, 0.03181689605116844, 0.046434421092271805, 0.00094707275275141, -0.06454265862703323, -0.0016779487486928701, -0.04074413329362869, -0.03577561303973198, -0.003630884923040867, -0.031463492661714554, 0.012319004163146019, 0.0013807741925120354, 0.0012891060905531049, 0.015706181526184082, 0.002575997030362487, 0.05188588798046112, -0.03760400041937828, -0.0127803860232234, -0.028750453144311905, 0.044844720512628555, 0.0068909102119505405, 0.03529421240091324, -0.016482090577483177, -0.031148351728916168, -0.05405779182910919, 0.04861724004149437, 0.0156270582228899, 0.025225745514035225, -0.0037119376938790083, -0.010786938481032848, -0.008596580475568771, -0.007738685235381126, -0.060050882399082184, -0.009678431786596775, -0.010350062511861324, 0.0005096273962408304, 0.014739256352186203, 0.04566280171275139, -0.010250234976410866, 0.018407173454761505, -0.0890807956457138, -0.06219138205051422, 0.0037948552053421736, -0.00165139464661479, -0.01756223849952221, 0.05400616303086281, -0.007712007034569979, 0.018270280212163925, 0.02397346869111061, -0.005981900729238987, 0.01533492375165224, -0.0008123246370814741, -0.0268928874284029, -0.026646887883543968, -0.056407324969768524, 0.0017958866665139794, -0.032240837812423706, 0.02304813638329506, -0.005835064686834812, 0.02986065112054348, 0.027073659002780914, 0.04334333539009094, -0.041666265577077866, 0.049293000251054764, -0.014323459006845951, -0.045416075736284256, 0.01332755759358406, 0.07381731271743774, 0.006493024528026581, 0.016434838995337486, -0.030138680711388588, -0.017183320596814156, 0.054252155125141144, 0.005982404574751854, -0.03474532812833786, 0.038613758981227875, 0.006339516025036573, 0.030318748205900192, -0.000519091438036412, -0.022412864491343498, -0.008259272202849388, -0.01062500849366188, 0.024672899395227432, -0.0043410141952335835, 0.021854480728507042, 0.0411008819937706, 0.01000081654638052, 0.020187566056847572, -0.06001148745417595, -0.028363289311528206, 0.037486493587493896, -0.006155370268970728, -0.007990680634975433, -0.004302324261516333, 0.010575102642178535, 0.013116131536662579, 0.023133711889386177, 0.0036105497274547815, -0.009369106963276863, 0.043254606425762177, 0.023184508085250854, 0.0445183590054512, -0.03861112520098686, 0.022628063336014748, -0.029788875952363014, 0.021546466276049614, 0.01320310402661562, -0.026305967941880226, 0.011347398161888123, 0.01191689632833004, 0.025685273110866547, 0.0029135572258383036, 0.08090683817863464, 0.012706360779702663, 0.1073393002152443, -0.02589765191078186, -0.046082235872745514, -0.0024760838132351637, 0.05472947284579277, 0.03562680631875992, -0.028508028015494347, -0.02738839201629162, 0.03377851843833923, -0.03753082454204559, 0.0024566177744418383, 0.01595456711947918, -0.05195377767086029, -0.023183630779385567, 0.050578515976667404, 0.014397010207176208, -0.0012298553483560681, -0.004908179398626089, 0.0515051931142807, 0.030822938308119774, 0.0016545496182516217, 0.02435576170682907, 0.06690648198127747, 0.029501568526029587, -0.02433214895427227, 0.007604529149830341, -0.03524792566895485, 0.03629016503691673, -0.02763279341161251, -0.06883257627487183, 0.03174195438623428, -0.02110329084098339, 0.04456784576177597, -0.005660426802933216, 0.01068130787461996, 0.0047905659303069115, -0.012124932371079922, 0.0035693729296326637, -0.0017399195348843932, -0.010250933468341827, -0.007825518026947975, 0.04856188967823982, 0.020024631172418594, 0.03667432814836502, 0.020978014916181564, -0.027428796514868736, 0.025111785158514977, 0.0058618285693228245, -0.008043344132602215, -0.05045389384031296, -0.04970835894346237, -0.06208207085728645, -0.004909418988972902, -0.0028808049391955137, 0.05253184586763382, -0.02091168612241745, 0.05103032663464546, 0.009892547503113747, -0.01556161604821682, -0.06902483105659485, -0.004293929319828749, -0.035017695277929306, 0.04982222244143486, 0.023563668131828308, 0.020268986001610756, 0.013733047991991043, 0.012864643707871437, 0.040179211646318436, -0.008357127197086811, 0.032702501863241196, -0.09415983408689499, 0.02210877276957035, 0.03270138427615166, -0.05446435883641243, 0.003187105990946293, 0.004259425215423107, -0.052415475249290466, 0.029649866744875908, -0.04674107953906059, -0.012996448203921318, 0.02334515005350113, -0.050239160656929016, 0.03116108477115631, 0.013768770731985569, 0.08994824439287186, -0.020828260108828545, -0.026918750256299973, 0.089670330286026, -0.017578942701220512, -0.059474680572748184, -0.020416826009750366, 0.03000267781317234, 0.07045856863260269, 0.004669203422963619, 0.031552888453006744, 0.030785420909523964, -0.019310154020786285, -0.013323623687028885, 0.002620051149278879, -0.03997688367962837, -0.046258457005023956, -0.05358355864882469, 0.0181403998285532, 0.047338712960481644, 0.07827353477478027, 0.017096547409892082, 0.00031828670762479305, -0.02580210193991661, -0.035611849278211594, 0.011778213083744049, -0.053212326020002365, -0.008340684697031975, 0.023759419098496437, 0.06331098079681396, 0.003609185805544257, 0.04962587729096413, -0.03139808773994446, 0.09869667887687683, 0.0143089909106493, -0.031251560896635056, 0.02560221031308174, -0.02472507767379284, -0.007914435118436813, 0.03567109629511833, 0.04371102526783943, -0.0319846086204052, -0.013161708600819111, -0.020454276353120804, -0.004440571181476116, 0.008010387420654297, 0.031432606279850006, 0.04962512105703354, -0.0669015571475029, 0.033611271530389786, -0.04589776694774628, -0.003551291534677148, 0.002315483521670103, -0.021905064582824707, 0.020910486578941345, 0.0004904830711893737, -0.050961174070835114, 0.02765193022787571, 0.030096333473920822, -0.029464662075042725, -0.04885824769735336, 0.015564007684588432, -0.0780818834900856, -0.021461009979248047, 0.0033215670846402645, 0.03223055601119995, -0.014425694942474365, 0.01655665598809719, 0.000868084141984582, 0.03361528739333153, 0.05694986507296562, 0.004799541551619768, -0.05556005612015724, -0.020894113928079605, 0.022528352215886116, -0.05373923480510712, -0.01485496200621128, 0.056072305887937546, 0.032770927995443344, 0.008848821744322777, -0.07820475846529007, -0.011051584035158157, -0.054667793214321136, 0.03872094303369522, 0.003972246777266264, 0.011865222826600075, 0.030208539217710495, 0.016323046758770943, 0.018900902941823006, -0.05866556987166405, -0.03559742867946625, 0.04127078130841255, -0.032781511545181274, -0.005393877625465393, -0.05898834764957428, -0.006026539485901594, -0.04385070875287056, 0.03272248059511185, -0.03733193501830101, 0.036964092403650284, 0.01627594605088234, 0.011175387538969517, -0.02854069508612156, -0.00897397380322218, -0.07882050424814224, -0.020537300035357475, -0.04603127762675285, -0.04010781645774841, 0.06736444681882858, 0.011786770075559616, -0.021593963727355003, 0.00390654755756259, 0.07509204000234604, -0.033829983323812485, -0.03897591307759285, -0.0063165477477014065, -0.0013439437607303262, 0.054583221673965454, -0.024497002363204956, -0.05257698893547058, -0.010901547968387604, -0.03234739229083061, 0.033185530453920364, 0.04814841225743294, -0.012659871950745583, 0.05590515583753586, 0.023927146568894386, 0.009993775747716427, 0.046386316418647766, 0.0041494788601994514, -0.018111100420355797, -0.03893127292394638, 0.11304458975791931, -0.05219563841819763, 0.018127204850316048, 0.002526518888771534, 0.01712932623922825, 0.041243717074394226, -0.021835453808307648, 0.07617434114217758, 0.031132236123085022, 0.01285201869904995, 0.004864796996116638, -0.004705970175564289, 0.009846518747508526, -0.014372257515788078, -0.01598290726542473, 0.0019825068302452564, -0.04831840842962265, -0.053449030965566635, 0.0834023728966713, -0.020701564848423004, -4.862011408262004e-33, -0.01656421646475792, -0.038364872336387634, -0.019014107063412666, 0.01571074314415455, -0.0364324189722538, -0.011961691081523895, 0.04145185276865959, -0.01661761850118637, -0.02700701542198658, 0.010133914649486542, -0.0394275039434433, -0.019599607214331627, -0.0008106951718218625, 0.04218176007270813, -0.022584252059459686, 0.0038481715600937605, 0.04771747440099716, 0.031568240374326706, -0.019915256649255753, -0.02469916269183159, -0.004420630168169737, -0.0071146744303405285, -0.0006285795825533569, 0.014736498706042767, -0.04545331373810768, -0.033406633883714676, -0.03277039900422096, 0.033008184283971786, 0.007884634658694267, 0.013391345739364624, -0.032959017902612686, 0.03539908677339554, 0.01780080236494541, -0.005463310983031988, -0.012287091463804245, 0.006917160470038652, -0.005436760373413563, -0.019210025668144226, 0.008811002597212791, 0.0720224678516388, 0.016052978113293648, -0.029902629554271698, -0.012675787322223186, -0.03107842430472374, -0.004398937337100506, 0.006187028251588345, 0.057305268943309784, -0.10086525231599808, 0.01461916882544756, -0.03325285390019417, -0.008670244365930557, 0.004357757046818733, 0.01785789057612419, -0.009634735062718391, -0.007824227213859558, 0.028679437935352325, 0.019856054335832596, 0.012028040364384651, -0.06169746443629265, -0.04499804973602295, -0.024360135197639465, 0.041891783475875854, 0.0341557078063488, 0.02379004843533039, -0.012973294593393803, -0.000662115984596312, 0.005811437964439392, -0.022703973576426506, 0.021978283300995827, -0.00319706741720438, 0.012317657470703125, 0.026021823287010193, -0.08248217403888702, 0.03497617319226265, -0.00023785303346812725, -0.07543671131134033, -0.019291194155812263, -0.0097392862662673, -0.0427815280854702, 0.03159954026341438, 0.01768277771770954, -0.03744129836559296, 0.004414425231516361, -0.04345516860485077, -0.024245867505669594, -0.012572740204632282, -0.023520639166235924, -0.07545468956232071, -0.009062289260327816, 0.03680293634533882, 0.00911563728004694, 0.043842777609825134, -0.05896615609526634, -0.022540858015418053, 0.010617997497320175, -0.007124296855181456, 0.03469346463680267, -0.0021438507828861475, -0.05508294329047203, -0.011283863335847855, 0.037373147904872894, -0.02770477905869484, -0.005769265349954367, 0.07888398319482803, -0.009310038760304451, 0.020444128662347794, 0.0034380925353616476, 0.00204681558534503, -0.020145194604992867, -0.030867503955960274, -0.027815572917461395, 0.004504670854657888, -0.024361474439501762, 0.05173439905047417, -0.026083214208483696, 0.021906688809394836, -0.025282474234700203, 0.010543718002736568, -0.004435103852301836, 0.002985413884744048, -0.02948608435690403, -0.013977859169244766, -0.016841543838381767, 0.0027637379243969917, -0.02760797180235386, 0.003951831255108118, -0.06651141494512558, -0.0741470605134964, -0.05628230422735214, -0.0019000567262992263, 0.01187440287321806, 0.0506867840886116, 2.565850536484504e-07, -0.07976359874010086, -0.03356791287660599, -0.029091371223330498, -0.10957107692956924, -0.03513113781809807, 0.0376228466629982, -0.043114058673381805, -0.046563103795051575, 0.03810715302824974, -0.05765759199857712, -0.019565152004361153, 0.0031844901386648417, -0.0007349412189796567, -0.013191542588174343, 0.008975262753665447, -0.021592285484075546, 0.02927686646580696, -0.006743231322616339, 0.04394443705677986, 0.0010623328853398561, 0.031768184155225754, 0.0435616597533226, 0.05560338869690895, 0.0016222379636019468, 0.008888667449355125, -0.0028658912051469088, -0.04473840817809105, -0.043143562972545624, -0.07745716720819473, 0.002539488021284342, 0.014177714474499226, 0.029236331582069397, 0.006263491231948137, 0.027584845200181007, 0.03075012005865574, 0.011577541939914227, 0.02797028422355652, 0.04595634341239929, 0.04620296135544777, 0.009899708442389965, -0.0001778194709913805, -0.03098890371620655, -0.03092462755739689, 0.0268048457801342, 0.03793590888381004, 0.07276171445846558, -0.03641640022397041, -0.043489135801792145, -0.0276465006172657, -0.021383903920650482, -0.017248675227165222, 0.008287406526505947, 0.01631728559732437, 0.028429187834262848, 0.0077641746029257774, -0.0446135550737381, -0.019284073263406754, 0.0150698097422719, -0.03129051998257637, 0.02978936955332756, -0.030850665643811226, -0.08489558845758438, 0.03600655123591423, 0.07121831923723221, 0.07551402598619461, -0.006300808861851692, 0.026910899206995964, 2.3609537713326786e-34, 0.05929828807711601, -0.007849250920116901, 0.03430197387933731, -0.03784943372011185, 0.017421003431081772, 0.020292963832616806, 0.04764557257294655, -0.03361944481730461, 0.013815696351230145, -0.06224902346730232, -0.01413712278008461]\n",
      "\n",
      "First 10 values:\n",
      " [0.004206650424748659, -0.04477153718471527, -0.03329736366868019, -0.024080492556095123, 0.05304640531539917, 0.007276966702193022, -0.010186169296503067, 0.0384075827896595, 0.0037796017713844776, 0.021179702132940292]\n"
     ]
    }
   ],
   "source": [
    "text = chunks[0].page_content\n",
    "print(\"Text:\\n\", text)  \n",
    "\n",
    "# Get embedding vector for this text\n",
    "embedding_vector = embedding_model.embed_query(text)\n",
    "\n",
    "# Show embedding\n",
    "print(\"\\nEmbedding vector:\\n\", embedding_vector)\n",
    "\n",
    "# Optional: Just show first 10 numbers to keep it short\n",
    "print(\"\\nFirst 10 values:\\n\", embedding_vector[:10])\n"
   ]
  },
  {
   "cell_type": "code",
   "execution_count": 13,
   "id": "00ca2386",
   "metadata": {},
   "outputs": [
    {
     "data": {
      "text/plain": [
       "'clean_name: MSI Thin 15 Intel Core i5 12th Gen 12450H\\nram_gb: 16.0\\nprocessor: Intel Core i5\\nos: Windows 11\\nstorage_gb: 512.0\\nDisplay Size: 15.6\\ncpu_brand: Intel\\nweight: 1.84\\nbattery_life: 7.6\\nprice: 54990\\nRating: 4.4'"
      ]
     },
     "execution_count": 13,
     "metadata": {},
     "output_type": "execute_result"
    }
   ],
   "source": [
    "query=\"i want a budget laptop for remote work with good batery life and i5\"\n",
    "result=vectorstore.similarity_search(query)\n",
    "result[0].page_content"
   ]
  },
  {
   "cell_type": "code",
   "execution_count": 14,
   "id": "1d90d9ce",
   "metadata": {},
   "outputs": [],
   "source": [
    "from langchain.chains import LLMChain, RetrievalQA\n",
    "from langchain.chains import create_retrieval_chain\n",
    "from langchain.prompts import PromptTemplate\n",
    "from langchain.llms import Ollama\n",
    "from langchain.prompts import ChatPromptTemplate\n",
    "from langchain_core.documents import Document\n",
    "from langchain_core.output_parsers import StrOutputParser\n",
    "from langchain_core.prompts import ChatPromptTemplate\n",
    "from langchain_core.output_parsers import StrOutputParser\n",
    "from langchain_core.runnables import RunnablePassthrough\n"
   ]
  },
  {
   "cell_type": "code",
   "execution_count": 15,
   "id": "e3d14a0f",
   "metadata": {},
   "outputs": [],
   "source": [
    "retriever = vectorstore.as_retriever(search_kwargs={\"k\": 4})\n"
   ]
  },
  {
   "cell_type": "code",
   "execution_count": 16,
   "id": "af46cbc5",
   "metadata": {},
   "outputs": [
    {
     "name": "stderr",
     "output_type": "stream",
     "text": [
      "C:\\Users\\rohit\\AppData\\Local\\Temp\\ipykernel_7312\\2786610211.py:1: LangChainDeprecationWarning: The class `Ollama` was deprecated in LangChain 0.3.1 and will be removed in 1.0.0. An updated version of the class exists in the :class:`~langchain-ollama package and should be used instead. To use it run `pip install -U :class:`~langchain-ollama` and import as `from :class:`~langchain_ollama import OllamaLLM``.\n",
      "  llm = Ollama(model=\"llama3\")\n"
     ]
    }
   ],
   "source": [
    "llm = Ollama(model=\"llama3\")"
   ]
  },
  {
   "cell_type": "code",
   "execution_count": 17,
   "id": "c25a417d",
   "metadata": {},
   "outputs": [],
   "source": [
    "# template = \"\"\"Answer the question based only on the following context:\n",
    "\n",
    "# {context}\n",
    "\n",
    "# Question: {question}\n",
    "# \"\"\"\n",
    "# prompt = ChatPromptTemplate.from_template(template)\n",
    "\n",
    "template = \"\"\"You are a laptop shopping assistant.\n",
    "Understand the user request and rewrite it as a clear filter-based requirement for searching laptops.\n",
    "Always display prices in Indian Rupees (₹), not in USD or any other currency.\n",
    "\n",
    "User query: {query}\n",
    "Refined requirement:\"\"\"\n"
   ]
  },
  {
   "cell_type": "code",
   "execution_count": 18,
   "id": "ebe5b81a",
   "metadata": {},
   "outputs": [
    {
     "name": "stderr",
     "output_type": "stream",
     "text": [
      "C:\\Users\\rohit\\AppData\\Local\\Temp\\ipykernel_7312\\24208809.py:2: LangChainDeprecationWarning: The class `LLMChain` was deprecated in LangChain 0.1.17 and will be removed in 1.0. Use :meth:`~RunnableSequence, e.g., `prompt | llm`` instead.\n",
      "  query_chain = LLMChain(llm=llm, prompt=prompt)\n"
     ]
    }
   ],
   "source": [
    "#prompt = PromptTemplate(input_variables=[\"question\"], template=template)\n",
    "#query_chain = LLMChain(llm=llm, prompt=prompt)\n",
    "\n",
    "# Define the prompt template\n",
    "prompt = PromptTemplate(input_variables=[\"question\"], template=template)\n",
    "\n",
    "# Compose the chain using the new Runnable pattern\n",
    "query_chain = prompt | llm\n",
    "\n",
    "# To run the chain\n",
    "response = query_chain.invoke({\"question\": \"What is the capital of France?\"})\n"
   ]
  },
  {
   "cell_type": "code",
   "execution_count": 21,
   "id": "45ee41ca",
   "metadata": {},
   "outputs": [
    {
     "name": "stdout",
     "output_type": "stream",
     "text": [
      "Refined Query: Based on your query, here is a refined requirement that can be used to search for budget laptops suitable for remote work:\n",
      "\n",
      "**Filter Requirements:**\n",
      "\n",
      "1. **Price**: ₹30,000 - ₹50,000 (Budget-friendly options)\n",
      "2. **Processor**: Intel Core i3 or equivalent (efficient for general tasks and remote work)\n",
      "3. **RAM**: 4 GB or more (ensures smooth performance for multiple applications)\n",
      "4. **Storage**: 256 GB or more (provides ample space for files and programs)\n",
      "5. **Operating System**: Windows, Chrome OS, or Linux (popular options for remote work)\n",
      "6. **Display**: HD or Full HD (1366x768 or 1920x1080) with a decent screen size (13-15 inches)\n",
      "7. **Graphics**: Integrated graphics (Intel Iris or equivalent) or dedicated graphics (NVIDIA MX110 or higher)\n",
      "8. **Connectivity**: Wi-Fi, Bluetooth, and USB ports (ensures seamless connectivity)\n",
      "\n",
      "These filter requirements should help you find a budget-friendly laptop that meets your needs for remote work.\n"
     ]
    }
   ],
   "source": [
    "user_input = \"I want a budget laptop for remote work\"\n",
    "refined_query = query_chain.run(user_input)\n",
    "print(\"Refined Query:\", refined_query)"
   ]
  },
  {
   "cell_type": "code",
   "execution_count": 22,
   "id": "9157ca12",
   "metadata": {},
   "outputs": [],
   "source": [
    "retriever = vectorstore.as_retriever(search_kwargs={\"k\": 3})\n"
   ]
  },
  {
   "cell_type": "code",
   "execution_count": 23,
   "id": "aa4c6719",
   "metadata": {},
   "outputs": [],
   "source": [
    "rag_chain = RetrievalQA.from_chain_type(llm=llm, retriever=retriever)\n",
    "response = rag_chain.run(refined_query)"
   ]
  },
  {
   "cell_type": "code",
   "execution_count": 24,
   "id": "4b9730a3",
   "metadata": {},
   "outputs": [
    {
     "name": "stdout",
     "output_type": "stream",
     "text": [
      "\n",
      "RAG Response:\n",
      " Based on the provided context, I can answer the question as follows:\n",
      "\n",
      "None of the laptops in the given context meet all the filter requirements. However, two laptops come close to meeting some of the requirements.\n",
      "\n",
      "1. HP - The HP laptop has a price tag that is slightly above the budget range (₹46,390), but it meets the processor and RAM requirements.\n",
      "2. MSI Thin 15 Intel Core i5 12th Gen 12450H - Two laptops with this model name come close to meeting some of the requirements. They have prices between ₹54,990 (above the budget range) and ₹51,090 (below the budget range), but they meet the processor, RAM, and storage requirements.\n",
      "\n",
      "To find a laptop that meets all the filter requirements within the budget range of ₹30,000 - ₹50,000, further searching or exploring other options would be necessary.\n"
     ]
    }
   ],
   "source": [
    "print(\"\\nRAG Response:\\n\", response)"
   ]
  },
  {
   "cell_type": "code",
   "execution_count": 25,
   "id": "83ee137a",
   "metadata": {},
   "outputs": [
    {
     "name": "stderr",
     "output_type": "stream",
     "text": [
      "C:\\Users\\rohit\\AppData\\Local\\Temp\\ipykernel_7312\\1275336335.py:3: LangChainDeprecationWarning: Please see the migration guide at: https://python.langchain.com/docs/versions/migrating_memory/\n",
      "  memory = ConversationBufferMemory(memory_key=\"chat_history\", return_messages=True)\n"
     ]
    }
   ],
   "source": [
    "from langchain.memory import ConversationBufferMemory\n",
    "\n",
    "memory = ConversationBufferMemory(memory_key=\"chat_history\", return_messages=True)"
   ]
  },
  {
   "cell_type": "code",
   "execution_count": 26,
   "id": "b30df48b",
   "metadata": {},
   "outputs": [
    {
     "name": "stderr",
     "output_type": "stream",
     "text": [
      "C:\\Users\\rohit\\AppData\\Local\\Temp\\ipykernel_7312\\3545154823.py:11: LangChainDeprecationWarning: LangChain agents will continue to be supported, but it is recommended for new use cases to be built with LangGraph. LangGraph offers a more flexible and full-featured framework for building agents, including support for tool-calling, persistence of state, and human-in-the-loop workflows. For details, refer to the `LangGraph documentation <https://langchain-ai.github.io/langgraph/>`_ as well as guides for `Migrating from AgentExecutor <https://python.langchain.com/docs/how_to/migrate_agent/>`_ and LangGraph's `Pre-built ReAct agent <https://langchain-ai.github.io/langgraph/how-tos/create-react-agent/>`_.\n",
      "  agent_executor = initialize_agent(\n"
     ]
    }
   ],
   "source": [
    "from langchain.agents import Tool\n",
    "search_tool = Tool(\n",
    "    name=\"LaptopSearch\",\n",
    "    func=lambda query: rag_chain.run(query),\n",
    "    description=\"Useful for answering questions about laptop features, brands, budgets, etc.\"\n",
    ")\n",
    "\n",
    "\n",
    "from langchain.agents import initialize_agent, AgentType\n",
    "\n",
    "agent_executor = initialize_agent(\n",
    "    tools=[search_tool],\n",
    "    llm=llm,\n",
    "    agent=AgentType.CONVERSATIONAL_REACT_DESCRIPTION,\n",
    "    memory=memory,\n",
    "    verbose=True\n",
    ")"
   ]
  },
  {
   "cell_type": "code",
   "execution_count": 27,
   "id": "7b04e28b",
   "metadata": {},
   "outputs": [
    {
     "name": "stdout",
     "output_type": "stream",
     "text": [
      "\n",
      "\n",
      "\u001b[1m> Entering new AgentExecutor chain...\u001b[0m\n",
      "\u001b[32;1m\u001b[1;3mThought: Do I need to use a tool? Yes\n",
      "Action: LaptopSearch\n",
      "Action Input: Show me Dell laptops under ₹50000\u001b[0m\n",
      "Observation: \u001b[36;1m\u001b[1;3mBased on the provided context, I can help you with that!\n",
      "\n",
      "Here are the Dell laptops under ₹50000:\n",
      "\n",
      "1. DELL Intel Core i5 12th Gen 1235U - Price: ₹44,990\n",
      "2. DELL 15 Intel Core i5 13th Gen 1334U - Price: ₹49,750\n",
      "\n",
      "These two laptops meet your budget of ₹50000.\u001b[0m\n",
      "Thought:\u001b[32;1m\u001b[1;3mThought: Do I need to use a tool? No\n",
      "AI: It looks like you're interested in Dell laptops within your budget of ₹50000. Based on the observation, I can see that we've got two options that fit your criteria. The DELL Intel Core i5 12th Gen 1235U and the DELL 15 Intel Core i5 13th Gen 1334U are both great choices. If you'd like to know more about these laptops or have any specific questions, feel free to ask!\u001b[0m\n",
      "\n",
      "\u001b[1m> Finished chain.\u001b[0m\n",
      "It looks like you're interested in Dell laptops within your budget of ₹50000. Based on the observation, I can see that we've got two options that fit your criteria. The DELL Intel Core i5 12th Gen 1235U and the DELL 15 Intel Core i5 13th Gen 1334U are both great choices. If you'd like to know more about these laptops or have any specific questions, feel free to ask!\n",
      "\n",
      "\n",
      "\u001b[1m> Entering new AgentExecutor chain...\u001b[0m\n",
      "\u001b[32;1m\u001b[1;3mThought: Do I need to use a tool? Yes\n",
      "Action: LaptopSearch\n",
      "Action Input: i5 models, ₹50000\u001b[0m\n",
      "Observation: \u001b[36;1m\u001b[1;3mBased on the given context, I can help you with that!\n",
      "\n",
      "You're looking for i5 models priced around ₹50,000 (approximately).\n",
      "\n",
      "Let me filter out the options for you:\n",
      "\n",
      "**Model 1:** MSI Thin 15 Intel Core i5 12th Gen 12450H\n",
      "- Price: ₹50,990 (slightly above your target)\n",
      "- Rating: 4.3\n",
      "\n",
      "**Model 2:** MSI Thin 15 Intel Core i5 12th Gen 12450H\n",
      "- Price: ₹54,990 (well above your target)\n",
      "\n",
      "As these two models are the same, I'll disregard them since they're too expensive.\n",
      "\n",
      "Moving on to **Model 3:** Lenovo V15 Intel Intel Core i5 11th Gen 1135G7\n",
      "- Price: ₹37,990 (significantly below your target)\n",
      "- Rating: 4.1\n",
      "\n",
      "Unfortunately, none of the given models meet the exact price requirement of ₹50,000. If you'd like to explore other options or consider slightly higher-priced laptops that might fit your budget, I can certainly help you with that!\u001b[0m\n",
      "Thought:\u001b[32;1m\u001b[1;3mDo I need to use a tool? No\n",
      "AI: It looks like we've filtered out some models that don't meet the price requirement of ₹50,000. Since none of the given models exactly match the target price, it might be worth considering laptops that are slightly higher-priced but still within your budget. Would you like me to suggest some options or explore other possibilities?\u001b[0m\n",
      "\n",
      "\u001b[1m> Finished chain.\u001b[0m\n",
      "It looks like we've filtered out some models that don't meet the price requirement of ₹50,000. Since none of the given models exactly match the target price, it might be worth considering laptops that are slightly higher-priced but still within your budget. Would you like me to suggest some options or explore other possibilities?\n"
     ]
    }
   ],
   "source": [
    "response = agent_executor.run(\"Show me Dell laptops under ₹50000\")\n",
    "print(response)\n",
    "\n",
    "# Later...\n",
    "followup = agent_executor.run(\"Only i5 models please\")\n",
    "print(followup)"
   ]
  },
  {
   "cell_type": "code",
   "execution_count": 28,
   "id": "1d9a72de",
   "metadata": {},
   "outputs": [
    {
     "name": "stdout",
     "output_type": "stream",
     "text": [
      "HUMAN: Show me Dell laptops under ₹50000\n",
      "AI: It looks like you're interested in Dell laptops within your budget of ₹50000. Based on the observation, I can see that we've got two options that fit your criteria. The DELL Intel Core i5 12th Gen 1235U and the DELL 15 Intel Core i5 13th Gen 1334U are both great choices. If you'd like to know more about these laptops or have any specific questions, feel free to ask!\n",
      "HUMAN: Only i5 models please\n",
      "AI: It looks like we've filtered out some models that don't meet the price requirement of ₹50,000. Since none of the given models exactly match the target price, it might be worth considering laptops that are slightly higher-priced but still within your budget. Would you like me to suggest some options or explore other possibilities?\n"
     ]
    }
   ],
   "source": [
    "# View history\n",
    "for msg in memory.load_memory_variables({})[\"chat_history\"]:\n",
    "    print(f\"{msg.type.upper()}: {msg.content}\")\n",
    "\n",
    "# # Or save to a file\n",
    "# with open(\"chat_history.txt\", \"w\") as f:\n",
    "#     for msg in memory.load_memory_variables({})[\"chat_history\"]:\n",
    "#         f.write(f\"{msg.type.upper()}: {msg.content}\\n\")\n"
   ]
  },
  {
   "cell_type": "code",
   "execution_count": 1,
   "id": "b676b63c",
   "metadata": {},
   "outputs": [
    {
     "name": "stdout",
     "output_type": "stream",
     "text": [
      "Package                   Version\n",
      "------------------------- --------------\n",
      "aiohappyeyeballs          2.6.1\n",
      "aiohttp                   3.11.18\n",
      "aiosignal                 1.3.2\n",
      "altair                    5.5.0\n",
      "annotated-types           0.7.0\n",
      "anyio                     4.9.0\n",
      "argon2-cffi               23.1.0\n",
      "argon2-cffi-bindings      21.2.0\n",
      "arrow                     1.3.0\n",
      "asttokens                 3.0.0\n",
      "async-lru                 2.0.5\n",
      "attrs                     25.3.0\n",
      "babel                     2.17.0\n",
      "beautifulsoup4            4.13.3\n",
      "bleach                    6.2.0\n",
      "blinker                   1.9.0\n",
      "cachetools                5.5.2\n",
      "certifi                   2025.1.31\n",
      "cffi                      1.17.1\n",
      "charset-normalizer        3.4.1\n",
      "click                     8.1.8\n",
      "colorama                  0.4.6\n",
      "comm                      0.2.2\n",
      "contourpy                 1.3.2\n",
      "cycler                    0.12.1\n",
      "dataclasses-json          0.6.7\n",
      "debugpy                   1.8.12\n",
      "decorator                 5.1.1\n",
      "defusedxml                0.7.1\n",
      "executing                 2.2.0\n",
      "faiss-cpu                 1.11.0\n",
      "fastjsonschema            2.21.1\n",
      "filelock                  3.18.0\n",
      "fonttools                 4.57.0\n",
      "fqdn                      1.5.1\n",
      "frozenlist                1.6.0\n",
      "fsspec                    2025.3.2\n",
      "gitdb                     4.0.12\n",
      "GitPython                 3.1.44\n",
      "greenlet                  3.2.2\n",
      "h11                       0.14.0\n",
      "httpcore                  1.0.7\n",
      "httpx                     0.28.1\n",
      "httpx-sse                 0.4.0\n",
      "huggingface-hub           0.31.1\n",
      "idna                      3.10\n",
      "ipykernel                 6.29.5\n",
      "ipython                   8.31.0\n",
      "isoduration               20.11.0\n",
      "jedi                      0.19.2\n",
      "Jinja2                    3.1.6\n",
      "joblib                    1.4.2\n",
      "json5                     0.10.0\n",
      "jsonpatch                 1.33\n",
      "jsonpointer               3.0.0\n",
      "jsonschema                4.23.0\n",
      "jsonschema-specifications 2024.10.1\n",
      "jupyter_client            8.6.3\n",
      "jupyter_core              5.7.2\n",
      "jupyter-events            0.12.0\n",
      "jupyter-lsp               2.2.5\n",
      "jupyter_server            2.15.0\n",
      "jupyter_server_terminals  0.5.3\n",
      "jupyterlab                4.3.6\n",
      "jupyterlab_pygments       0.3.0\n",
      "jupyterlab_server         2.27.3\n",
      "kiwisolver                1.4.8\n",
      "langchain                 0.3.25\n",
      "langchain-community       0.3.24\n",
      "langchain-core            0.3.59\n",
      "langchain-text-splitters  0.3.8\n",
      "langsmith                 0.3.42\n",
      "MarkupSafe                3.0.2\n",
      "marshmallow               3.26.1\n",
      "matplotlib                3.10.1\n",
      "matplotlib-inline         0.1.7\n",
      "mistune                   3.1.3\n",
      "mlxtend                   0.23.4\n",
      "mpmath                    1.3.0\n",
      "multidict                 6.4.3\n",
      "mypy_extensions           1.1.0\n",
      "narwhals                  1.38.2\n",
      "nbclient                  0.10.2\n",
      "nbconvert                 7.16.6\n",
      "nbformat                  5.10.4\n",
      "nest-asyncio              1.6.0\n",
      "networkx                  3.4.2\n",
      "notebook                  7.3.3\n",
      "notebook_shim             0.2.4\n",
      "numpy                     2.2.5\n",
      "orjson                    3.10.18\n",
      "outcome                   1.3.0.post0\n",
      "overrides                 7.7.0\n",
      "packaging                 24.2\n",
      "pandas                    2.2.3\n",
      "pandocfilters             1.5.1\n",
      "parso                     0.8.4\n",
      "patsy                     1.0.1\n",
      "pillow                    11.2.1\n",
      "pip                       25.1.1\n",
      "platformdirs              4.3.6\n",
      "prometheus_client         0.21.1\n",
      "prompt_toolkit            3.0.50\n",
      "propcache                 0.3.1\n",
      "protobuf                  6.30.2\n",
      "psutil                    6.1.1\n",
      "pure_eval                 0.2.3\n",
      "pyarrow                   20.0.0\n",
      "pycparser                 2.22\n",
      "pydantic                  2.11.4\n",
      "pydantic_core             2.33.2\n",
      "pydantic-settings         2.9.1\n",
      "pydeck                    0.9.1\n",
      "Pygments                  2.19.1\n",
      "pyparsing                 3.2.3\n",
      "PySocks                   1.7.1\n",
      "python-dateutil           2.9.0.post0\n",
      "python-dotenv             1.1.0\n",
      "python-json-logger        3.3.0\n",
      "pytz                      2025.2\n",
      "pywin32                   308\n",
      "pywinpty                  2.0.15\n",
      "PyYAML                    6.0.2\n",
      "pyzmq                     26.2.0\n",
      "referencing               0.36.2\n",
      "regex                     2024.11.6\n",
      "requests                  2.32.3\n",
      "requests-toolbelt         1.0.0\n",
      "rfc3339-validator         0.1.4\n",
      "rfc3986-validator         0.1.1\n",
      "rpds-py                   0.24.0\n",
      "safetensors               0.5.3\n",
      "scikit-learn              1.6.1\n",
      "scipy                     1.15.2\n",
      "seaborn                   0.13.2\n",
      "selenium                  4.32.0\n",
      "Send2Trash                1.8.3\n",
      "sentence-transformers     4.1.0\n",
      "six                       1.17.0\n",
      "smmap                     5.0.2\n",
      "sniffio                   1.3.1\n",
      "sortedcontainers          2.4.0\n",
      "soupsieve                 2.6\n",
      "SQLAlchemy                2.0.40\n",
      "stack-data                0.6.3\n",
      "statsmodels               0.14.4\n",
      "streamlit                 1.45.0\n",
      "sympy                     1.14.0\n",
      "tenacity                  9.1.2\n",
      "terminado                 0.18.1\n",
      "threadpoolctl             3.6.0\n",
      "tinycss2                  1.4.0\n",
      "tokenizers                0.21.1\n",
      "toml                      0.10.2\n",
      "torch                     2.7.0\n",
      "tornado                   6.4.2\n",
      "tqdm                      4.67.1\n",
      "traitlets                 5.14.3\n",
      "transformers              4.51.3\n",
      "trio                      0.30.0\n",
      "trio-websocket            0.12.2\n",
      "types-python-dateutil     2.9.0.20241206\n",
      "typing_extensions         4.12.2\n",
      "typing-inspect            0.9.0\n",
      "typing-inspection         0.4.0\n",
      "tzdata                    2025.2\n",
      "uri-template              1.3.0\n",
      "urllib3                   2.3.0\n",
      "watchdog                  6.0.0\n",
      "wcwidth                   0.2.13\n",
      "webcolors                 24.11.1\n",
      "webencodings              0.5.1\n",
      "websocket-client          1.8.0\n",
      "wsproto                   1.2.0\n",
      "yarl                      1.20.0\n",
      "zstandard                 0.23.0\n"
     ]
    }
   ],
   "source": [
    "!pip list"
   ]
  },
  {
   "cell_type": "code",
   "execution_count": null,
   "id": "3ad0fdc4-2f1d-42c2-b97a-3b5e59c89567",
   "metadata": {},
   "outputs": [],
   "source": []
  }
 ],
 "metadata": {
  "kernelspec": {
   "display_name": "Python 3 (ipykernel)",
   "language": "python",
   "name": "python3"
  },
  "language_info": {
   "codemirror_mode": {
    "name": "ipython",
    "version": 3
   },
   "file_extension": ".py",
   "mimetype": "text/x-python",
   "name": "python",
   "nbconvert_exporter": "python",
   "pygments_lexer": "ipython3",
   "version": "3.11.9"
  }
 },
 "nbformat": 4,
 "nbformat_minor": 5
}
